{
 "cells": [
  {
   "cell_type": "code",
   "execution_count": 1,
   "id": "95fcfa0a",
   "metadata": {},
   "outputs": [],
   "source": [
    "import os\n",
    "import re\n",
    "import pandas as pd\n",
    "\n",
    "def BuildDataframe(directory):\n",
    "    data = {'image_path': [], 'label': []}\n",
    "    pattern = r'diseased'\n",
    "\n",
    "    for plant in os.listdir(directory):\n",
    "        class_dir = os.path.join(directory, plant)\n",
    "\n",
    "        if os.path.isdir(class_dir):\n",
    "            match = re.search(pattern, plant)\n",
    "            label = \"healthy\"\n",
    "            if match:\n",
    "                label = \"diseased\"\n",
    "                    \n",
    "            print(\"Extracting \", plant, \"...\")            \n",
    "            for image_file in os.listdir(class_dir):\n",
    "                image_path = os.path.join(class_dir, image_file)\n",
    "                    \n",
    "                data['image_path'].append(image_path)\n",
    "                data['label'].append(label)\n",
    "\n",
    "    print(\"Data correctly extracted.\")\n",
    "    dataframe = pd.DataFrame(data)\n",
    "    return dataframe"
   ]
  },
  {
   "cell_type": "code",
   "execution_count": 3,
   "id": "de90d6e1",
   "metadata": {},
   "outputs": [
    {
     "name": "stdout",
     "output_type": "stream",
     "text": [
      "Extracting  Alstonia Scholaris diseased (P2a) ...\n",
      "Extracting  Alstonia Scholaris healthy (P2b) ...\n",
      "Extracting  Arjun diseased (P1a) ...\n",
      "Extracting  Arjun healthy (P1b) ...\n",
      "Extracting  Bael diseased (P4b) ...\n",
      "Extracting  Basil healthy (P8) ...\n",
      "Extracting  Chinar diseased (P11b) ...\n",
      "Extracting  Chinar healthy (P11a) ...\n",
      "Extracting  Gauva diseased (P3b) ...\n",
      "Extracting  Gauva healthy (P3a) ...\n",
      "Extracting  Jamun diseased (P5b) ...\n",
      "Extracting  Jamun healthy (P5a) ...\n",
      "Extracting  Jatropha diseased (P6b) ...\n",
      "Extracting  Jatropha healthy (P6a) ...\n",
      "Extracting  Lemon diseased (P10b) ...\n",
      "Extracting  Lemon healthy (P10a) ...\n",
      "Extracting  Mango diseased (P0b) ...\n",
      "Extracting  Mango healthy (P0a) ...\n",
      "Extracting  Pomegranate diseased (P9b) ...\n",
      "Extracting  Pomegranate healthy (P9a) ...\n",
      "Extracting  Pongamia Pinnata diseased (P7b) ...\n",
      "Extracting  Pongamia Pinnata healthy (P7a) ...\n",
      "Data correctly extracted.\n",
      "Extracting  Alstonia Scholaris diseased (P2a) ...\n",
      "Extracting  Alstonia Scholaris healthy (P2b) ...\n",
      "Extracting  Arjun diseased (P1a) ...\n",
      "Extracting  Arjun healthy (P1b) ...\n",
      "Extracting  Bael diseased (P4b) ...\n",
      "Extracting  Basil healthy (P8) ...\n",
      "Extracting  Chinar diseased (P11b) ...\n",
      "Extracting  Chinar healthy (P11a) ...\n",
      "Extracting  Gauva diseased (P3b) ...\n",
      "Extracting  Gauva healthy (P3a) ...\n",
      "Extracting  Jamun diseased (P5b) ...\n",
      "Extracting  Jamun healthy (P5a) ...\n",
      "Extracting  Jatropha diseased (P6b) ...\n",
      "Extracting  Jatropha healthy (P6a) ...\n",
      "Extracting  Lemon diseased (P10b) ...\n",
      "Extracting  Lemon healthy (P10a) ...\n",
      "Extracting  Mango diseased (P0b) ...\n",
      "Extracting  Mango healthy (P0a) ...\n",
      "Extracting  Pomegranate diseased (P9b) ...\n",
      "Extracting  Pomegranate healthy (P9a) ...\n",
      "Extracting  Pongamia Pinnata diseased (P7b) ...\n",
      "Extracting  Pongamia Pinnata healthy (P7a) ...\n",
      "Data correctly extracted.\n",
      "Extracting  Alstonia Scholaris diseased (P2a) ...\n",
      "Extracting  Alstonia Scholaris healthy (P2b) ...\n",
      "Extracting  Arjun diseased (P1a) ...\n",
      "Extracting  Arjun healthy (P1b) ...\n",
      "Extracting  Bael diseased (P4b) ...\n",
      "Extracting  Basil healthy (P8) ...\n",
      "Extracting  Chinar diseased (P11b) ...\n",
      "Extracting  Chinar healthy (P11a) ...\n",
      "Extracting  Gauva diseased (P3b) ...\n",
      "Extracting  Gauva healthy (P3a) ...\n",
      "Extracting  Jamun diseased (P5b) ...\n",
      "Extracting  Jamun healthy (P5a) ...\n",
      "Extracting  Jatropha diseased (P6b) ...\n",
      "Extracting  Jatropha healthy (P6a) ...\n",
      "Extracting  Lemon diseased (P10b) ...\n",
      "Extracting  Lemon healthy (P10a) ...\n",
      "Extracting  Mango diseased (P0b) ...\n",
      "Extracting  Mango healthy (P0a) ...\n",
      "Extracting  Pomegranate diseased (P9b) ...\n",
      "Extracting  Pomegranate healthy (P9a) ...\n",
      "Extracting  Pongamia Pinnata diseased (P7b) ...\n",
      "Extracting  Pongamia Pinnata healthy (P7a) ...\n",
      "Data correctly extracted.\n",
      "                                             image_path     label\n",
      "3693  C:\\Users\\user\\Desktop\\4.1 study\\plant-leaves-f...   healthy\n",
      "4200  C:\\Users\\user\\Desktop\\4.1 study\\plant-leaves-f...   healthy\n",
      "3943  C:\\Users\\user\\Desktop\\4.1 study\\plant-leaves-f...  diseased\n",
      "2307  C:\\Users\\user\\Desktop\\4.1 study\\plant-leaves-f...  diseased\n",
      "3546  C:\\Users\\user\\Desktop\\4.1 study\\plant-leaves-f...   healthy\n",
      "614   C:\\Users\\user\\Desktop\\4.1 study\\plant-leaves-f...  diseased\n",
      "1731  C:\\Users\\user\\Desktop\\4.1 study\\plant-leaves-f...  diseased\n",
      "3974  C:\\Users\\user\\Desktop\\4.1 study\\plant-leaves-f...   healthy\n",
      "4069  C:\\Users\\user\\Desktop\\4.1 study\\plant-leaves-f...   healthy\n",
      "3221  C:\\Users\\user\\Desktop\\4.1 study\\plant-leaves-f...  diseased\n"
     ]
    }
   ],
   "source": [
    "train_dir = r'C:\\Users\\user\\Desktop\\4.1 study\\plant-leaves-for-image-classification\\Plants_2\\train'\n",
    "train_dataframe = BuildDataframe(train_dir)\n",
    "\n",
    "test_dir = r'C:\\Users\\user\\Desktop\\4.1 study\\plant-leaves-for-image-classification\\Plants_2\\test'\n",
    "test_dataframe = BuildDataframe(test_dir)\n",
    "\n",
    "valid_dir = r'C:\\Users\\user\\Desktop\\4.1 study\\plant-leaves-for-image-classification\\Plants_2\\valid'\n",
    "valid_dataframe = BuildDataframe(valid_dir)\n",
    "\n",
    "sample_df = train_dataframe.sample(n=10)\n",
    "print(sample_df)"
   ]
  },
  {
   "cell_type": "code",
   "execution_count": 4,
   "id": "f16fe802",
   "metadata": {},
   "outputs": [
    {
     "name": "stdout",
     "output_type": "stream",
     "text": [
      "WARNING:tensorflow:From C:\\Users\\user\\anaconda3\\lib\\site-packages\\keras\\src\\losses.py:2976: The name tf.losses.sparse_softmax_cross_entropy is deprecated. Please use tf.compat.v1.losses.sparse_softmax_cross_entropy instead.\n",
      "\n",
      "Error using GPU, CPU will be used\n",
      "WARNING:tensorflow:From C:\\Users\\user\\anaconda3\\lib\\site-packages\\keras\\src\\backend.py:277: The name tf.reset_default_graph is deprecated. Please use tf.compat.v1.reset_default_graph instead.\n",
      "\n"
     ]
    }
   ],
   "source": [
    "import tensorflow as tf\n",
    "physical_devices = tf.config.list_physical_devices('GPU')\n",
    "if len(physical_devices) > 0:\n",
    "    tf.config.experimental.set_memory_growth(physical_devices[0], True)\n",
    "    print(\"GPU config OK\")\n",
    "else:\n",
    "    print(\"Error using GPU, CPU will be used\")\n",
    "tf.keras.backend.clear_session()"
   ]
  },
  {
   "cell_type": "code",
   "execution_count": 5,
   "id": "cb5d660a",
   "metadata": {},
   "outputs": [],
   "source": [
    "from tensorflow.keras.preprocessing.image import ImageDataGenerator\n",
    "from tensorflow.keras.applications import MobileNetV2\n",
    "from tensorflow.keras.layers import Dense, GlobalAveragePooling2D\n",
    "from tensorflow.keras.models import Model"
   ]
  },
  {
   "cell_type": "code",
   "execution_count": 6,
   "id": "2127d748",
   "metadata": {},
   "outputs": [],
   "source": [
    "input_shape = (224, 224, 3)\n",
    "num_classes = 2\n",
    "batch_size = 32\n",
    "epochs = 10"
   ]
  },
  {
   "cell_type": "code",
   "execution_count": 7,
   "id": "ba206655",
   "metadata": {},
   "outputs": [],
   "source": [
    "train_datagen = ImageDataGenerator(\n",
    "    rescale=1./255,\n",
    "    rotation_range=20,\n",
    "    width_shift_range=0.2,\n",
    "    height_shift_range=0.2,\n",
    "    shear_range=0.2,\n",
    "    zoom_range=0.2,\n",
    "    horizontal_flip=True\n",
    ")\n",
    "\n",
    "test_datagen = ImageDataGenerator(rescale=1./255)"
   ]
  },
  {
   "cell_type": "code",
   "execution_count": 8,
   "id": "5e4caef5",
   "metadata": {},
   "outputs": [
    {
     "name": "stdout",
     "output_type": "stream",
     "text": [
      "                                             image_path     label\n",
      "0     C:\\Users\\user\\Desktop\\4.1 study\\plant-leaves-f...  diseased\n",
      "1     C:\\Users\\user\\Desktop\\4.1 study\\plant-leaves-f...  diseased\n",
      "2     C:\\Users\\user\\Desktop\\4.1 study\\plant-leaves-f...  diseased\n",
      "3     C:\\Users\\user\\Desktop\\4.1 study\\plant-leaves-f...  diseased\n",
      "4     C:\\Users\\user\\Desktop\\4.1 study\\plant-leaves-f...  diseased\n",
      "...                                                 ...       ...\n",
      "4269  C:\\Users\\user\\Desktop\\4.1 study\\plant-leaves-f...   healthy\n",
      "4270  C:\\Users\\user\\Desktop\\4.1 study\\plant-leaves-f...   healthy\n",
      "4271  C:\\Users\\user\\Desktop\\4.1 study\\plant-leaves-f...   healthy\n",
      "4272  C:\\Users\\user\\Desktop\\4.1 study\\plant-leaves-f...   healthy\n",
      "4273  C:\\Users\\user\\Desktop\\4.1 study\\plant-leaves-f...   healthy\n",
      "\n",
      "[4274 rows x 2 columns]\n"
     ]
    }
   ],
   "source": [
    "print(train_dataframe)"
   ]
  },
  {
   "cell_type": "code",
   "execution_count": 9,
   "id": "4bd56015",
   "metadata": {},
   "outputs": [
    {
     "name": "stdout",
     "output_type": "stream",
     "text": [
      "Found 4274 validated image filenames belonging to 2 classes.\n",
      "Found 110 validated image filenames belonging to 2 classes.\n",
      "Found 110 validated image filenames belonging to 2 classes.\n"
     ]
    }
   ],
   "source": [
    "train_directory = r'C:\\Users\\user\\Desktop\\4.1 study\\plant-leaves-for-image-classification\\Plants_2\\train'\n",
    "test_directory = r'C:\\Users\\user\\Desktop\\4.1 study\\plant-leaves-for-image-classification\\Plants_2\\test'\n",
    "valid_directory = r'C:\\Users\\user\\Desktop\\4.1 study\\plant-leaves-for-image-classification\\Plants_2\\valid'\n",
    "\n",
    "train_generator = train_datagen.flow_from_dataframe(\n",
    "    dataframe=train_dataframe,\n",
    "    directory=train_directory,\n",
    "    x_col='image_path',\n",
    "    y_col='label',\n",
    "    target_size=input_shape[:2],\n",
    "    batch_size=batch_size,\n",
    "    class_mode='categorical'\n",
    ")\n",
    "\n",
    "test_generator = test_datagen.flow_from_dataframe(\n",
    "    dataframe=test_dataframe,\n",
    "    directory=test_directory,\n",
    "    x_col='image_path',\n",
    "    y_col='label',\n",
    "    target_size=input_shape[:2],\n",
    "    batch_size=batch_size,\n",
    "    class_mode='categorical'\n",
    ")\n",
    "\n",
    "valid_generator = test_datagen.flow_from_dataframe(\n",
    "    dataframe=valid_dataframe,\n",
    "    directory=valid_directory,\n",
    "    x_col='image_path',\n",
    "    y_col='label',\n",
    "    target_size=input_shape[:2],\n",
    "    batch_size=batch_size,\n",
    "    class_mode='categorical'\n",
    ")"
   ]
  },
  {
   "cell_type": "code",
   "execution_count": 10,
   "id": "4d975342",
   "metadata": {},
   "outputs": [
    {
     "name": "stdout",
     "output_type": "stream",
     "text": [
      "WARNING:tensorflow:From C:\\Users\\user\\anaconda3\\lib\\site-packages\\keras\\src\\layers\\normalization\\batch_normalization.py:979: The name tf.nn.fused_batch_norm is deprecated. Please use tf.compat.v1.nn.fused_batch_norm instead.\n",
      "\n",
      "Downloading data from https://storage.googleapis.com/tensorflow/keras-applications/mobilenet_v2/mobilenet_v2_weights_tf_dim_ordering_tf_kernels_1.0_224_no_top.h5\n",
      "9406464/9406464 [==============================] - 9s 1us/step\n"
     ]
    }
   ],
   "source": [
    "base_model = MobileNetV2(input_shape=input_shape, include_top=False, weights='imagenet')\n",
    "\n",
    "for layer in base_model.layers:\n",
    "    layer.trainable = False\n",
    "\n",
    "x = base_model.output\n",
    "x = GlobalAveragePooling2D()(x)\n",
    "x = Dense(128, activation='relu')(x)\n",
    "predictions = Dense(num_classes, activation='softmax')(x)\n",
    "\n",
    "model = Model(inputs=base_model.input, outputs=predictions)"
   ]
  },
  {
   "cell_type": "code",
   "execution_count": 11,
   "id": "10eb5181",
   "metadata": {},
   "outputs": [
    {
     "name": "stdout",
     "output_type": "stream",
     "text": [
      "WARNING:tensorflow:From C:\\Users\\user\\anaconda3\\lib\\site-packages\\keras\\src\\optimizers\\__init__.py:309: The name tf.train.Optimizer is deprecated. Please use tf.compat.v1.train.Optimizer instead.\n",
      "\n",
      "Epoch 1/10\n",
      "WARNING:tensorflow:From C:\\Users\\user\\anaconda3\\lib\\site-packages\\keras\\src\\utils\\tf_utils.py:492: The name tf.ragged.RaggedTensorValue is deprecated. Please use tf.compat.v1.ragged.RaggedTensorValue instead.\n",
      "\n",
      "WARNING:tensorflow:From C:\\Users\\user\\anaconda3\\lib\\site-packages\\keras\\src\\engine\\base_layer_utils.py:384: The name tf.executing_eagerly_outside_functions is deprecated. Please use tf.compat.v1.executing_eagerly_outside_functions instead.\n",
      "\n",
      "134/134 [==============================] - 654s 5s/step - loss: 0.3953 - accuracy: 0.8234 - val_loss: 0.3863 - val_accuracy: 0.8182\n",
      "Epoch 2/10\n",
      "134/134 [==============================] - 557s 4s/step - loss: 0.2587 - accuracy: 0.8898 - val_loss: 0.3152 - val_accuracy: 0.8545\n",
      "Epoch 3/10\n",
      "134/134 [==============================] - 539s 4s/step - loss: 0.2345 - accuracy: 0.8949 - val_loss: 0.3597 - val_accuracy: 0.8364\n",
      "Epoch 4/10\n",
      "134/134 [==============================] - 521s 4s/step - loss: 0.2217 - accuracy: 0.9085 - val_loss: 0.3296 - val_accuracy: 0.8545\n",
      "Epoch 5/10\n",
      "134/134 [==============================] - 512s 4s/step - loss: 0.1940 - accuracy: 0.9212 - val_loss: 0.3658 - val_accuracy: 0.8455\n",
      "Epoch 6/10\n",
      "134/134 [==============================] - 541s 4s/step - loss: 0.1907 - accuracy: 0.9181 - val_loss: 0.4116 - val_accuracy: 0.8455\n",
      "Epoch 7/10\n",
      "134/134 [==============================] - 511s 4s/step - loss: 0.1930 - accuracy: 0.9263 - val_loss: 0.5602 - val_accuracy: 0.8273\n",
      "Epoch 8/10\n",
      "134/134 [==============================] - 521s 4s/step - loss: 0.1739 - accuracy: 0.9268 - val_loss: 0.3649 - val_accuracy: 0.8273\n",
      "Epoch 9/10\n",
      "134/134 [==============================] - 513s 4s/step - loss: 0.1674 - accuracy: 0.9275 - val_loss: 0.3558 - val_accuracy: 0.8455\n",
      "Epoch 10/10\n",
      "134/134 [==============================] - 508s 4s/step - loss: 0.1661 - accuracy: 0.9328 - val_loss: 0.3632 - val_accuracy: 0.8455\n"
     ]
    },
    {
     "data": {
      "text/plain": [
       "<keras.src.callbacks.History at 0x1ae9ed8f7c0>"
      ]
     },
     "execution_count": 11,
     "metadata": {},
     "output_type": "execute_result"
    }
   ],
   "source": [
    "model.compile(optimizer='adam', loss='categorical_crossentropy', metrics=['accuracy'])\n",
    "model.fit(train_generator, epochs=epochs, validation_data=valid_generator)"
   ]
  },
  {
   "cell_type": "code",
   "execution_count": 13,
   "id": "8f6ea0f6",
   "metadata": {},
   "outputs": [
    {
     "name": "stdout",
     "output_type": "stream",
     "text": [
      "4/4 [==============================] - 12s 3s/step - loss: 0.3218 - accuracy: 0.8636\n",
      "Test Loss: 0.3217659592628479\n",
      "Test Accuracy: 0.8636363744735718\n"
     ]
    }
   ],
   "source": [
    "test_loss, test_acc = model.evaluate(test_generator)\n",
    "print('Test Loss:', test_loss)\n",
    "print('Test Accuracy:', test_acc)"
   ]
  },
  {
   "cell_type": "code",
   "execution_count": null,
   "id": "3c06bf98",
   "metadata": {},
   "outputs": [],
   "source": []
  }
 ],
 "metadata": {
  "kernelspec": {
   "display_name": "Python 3 (ipykernel)",
   "language": "python",
   "name": "python3"
  },
  "language_info": {
   "codemirror_mode": {
    "name": "ipython",
    "version": 3
   },
   "file_extension": ".py",
   "mimetype": "text/x-python",
   "name": "python",
   "nbconvert_exporter": "python",
   "pygments_lexer": "ipython3",
   "version": "3.10.9"
  }
 },
 "nbformat": 4,
 "nbformat_minor": 5
}
